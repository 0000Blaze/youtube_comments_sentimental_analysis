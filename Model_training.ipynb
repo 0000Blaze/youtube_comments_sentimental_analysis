{
 "cells": [
  {
   "cell_type": "code",
   "execution_count": 1,
   "id": "3dcabc5a",
   "metadata": {},
   "outputs": [
    {
     "name": "stderr",
     "output_type": "stream",
     "text": [
      "[nltk_data] Downloading package punkt to /home/rohan/nltk_data...\n",
      "[nltk_data]   Package punkt is already up-to-date!\n",
      "[nltk_data] Downloading package stopwords to /home/rohan/nltk_data...\n",
      "[nltk_data]   Package stopwords is already up-to-date!\n",
      "[nltk_data] Downloading package wordnet to /home/rohan/nltk_data...\n",
      "[nltk_data]   Package wordnet is already up-to-date!\n",
      "[nltk_data] Downloading package omw-1.4 to /home/rohan/nltk_data...\n",
      "[nltk_data]   Package omw-1.4 is already up-to-date!\n"
     ]
    }
   ],
   "source": [
    "import pandas as pd\n",
    "import re\n",
    "import nltk\n",
    "\n",
    "nltk.download('punkt')\n",
    "nltk.download('stopwords')\n",
    "nltk.download('wordnet')\n",
    "nltk.download('omw-1.4')\n",
    "\n",
    "from nltk.tokenize import sent_tokenize,word_tokenize\n",
    "from nltk.corpus import stopwords\n",
    "from nltk.stem import WordNetLemmatizer \n",
    "from sklearn.model_selection import train_test_split\n",
    "\n",
    "port = WordNetLemmatizer()"
   ]
  },
  {
   "cell_type": "code",
   "execution_count": 2,
   "id": "81b20460",
   "metadata": {},
   "outputs": [
    {
     "data": {
      "text/html": [
       "<div>\n",
       "<style scoped>\n",
       "    .dataframe tbody tr th:only-of-type {\n",
       "        vertical-align: middle;\n",
       "    }\n",
       "\n",
       "    .dataframe tbody tr th {\n",
       "        vertical-align: top;\n",
       "    }\n",
       "\n",
       "    .dataframe thead th {\n",
       "        text-align: right;\n",
       "    }\n",
       "</style>\n",
       "<table border=\"1\" class=\"dataframe\">\n",
       "  <thead>\n",
       "    <tr style=\"text-align: right;\">\n",
       "      <th></th>\n",
       "      <th>Author</th>\n",
       "      <th>Comment</th>\n",
       "      <th>Polarity</th>\n",
       "    </tr>\n",
       "  </thead>\n",
       "  <tbody>\n",
       "    <tr>\n",
       "      <th>0</th>\n",
       "      <td>Don Gillies</td>\n",
       "      <td>Nothing better than being young and in love.  ...</td>\n",
       "      <td>1.0</td>\n",
       "    </tr>\n",
       "    <tr>\n",
       "      <th>1</th>\n",
       "      <td>Dogeball</td>\n",
       "      <td>this song. . .</td>\n",
       "      <td>0.0</td>\n",
       "    </tr>\n",
       "    <tr>\n",
       "      <th>2</th>\n",
       "      <td>Varifiable Jelly</td>\n",
       "      <td>5 years and it ain t stopped. Dang</td>\n",
       "      <td>0.0</td>\n",
       "    </tr>\n",
       "    <tr>\n",
       "      <th>3</th>\n",
       "      <td>0</td>\n",
       "      <td>there is literally nobody in this world who do...</td>\n",
       "      <td>0.0</td>\n",
       "    </tr>\n",
       "    <tr>\n",
       "      <th>4</th>\n",
       "      <td>Nirmala Gowda</td>\n",
       "      <td>Me I  39</td>\n",
       "      <td>0.0</td>\n",
       "    </tr>\n",
       "  </tbody>\n",
       "</table>\n",
       "</div>"
      ],
      "text/plain": [
       "             Author                                            Comment  \\\n",
       "0       Don Gillies  Nothing better than being young and in love.  ...   \n",
       "1          Dogeball                                     this song. . .   \n",
       "2  Varifiable Jelly                 5 years and it ain t stopped. Dang   \n",
       "3                 0  there is literally nobody in this world who do...   \n",
       "4     Nirmala Gowda                                           Me I  39   \n",
       "\n",
       "   Polarity  \n",
       "0       1.0  \n",
       "1       0.0  \n",
       "2       0.0  \n",
       "3       0.0  \n",
       "4       0.0  "
      ]
     },
     "execution_count": 2,
     "metadata": {},
     "output_type": "execute_result"
    }
   ],
   "source": [
    "initial_data = pd.read_csv('labelled_ShapeOfYou.csv',encoding='utf8');\n",
    "initial_data.head()"
   ]
  },
  {
   "cell_type": "code",
   "execution_count": 3,
   "id": "31675b46",
   "metadata": {},
   "outputs": [
    {
     "data": {
      "text/plain": [
       "(16333, 3)"
      ]
     },
     "execution_count": 3,
     "metadata": {},
     "output_type": "execute_result"
    }
   ],
   "source": [
    "initial_data.shape"
   ]
  },
  {
   "cell_type": "code",
   "execution_count": 4,
   "id": "0582bc0c",
   "metadata": {
    "scrolled": true
   },
   "outputs": [
    {
     "data": {
      "text/html": [
       "<div>\n",
       "<style scoped>\n",
       "    .dataframe tbody tr th:only-of-type {\n",
       "        vertical-align: middle;\n",
       "    }\n",
       "\n",
       "    .dataframe tbody tr th {\n",
       "        vertical-align: top;\n",
       "    }\n",
       "\n",
       "    .dataframe thead th {\n",
       "        text-align: right;\n",
       "    }\n",
       "</style>\n",
       "<table border=\"1\" class=\"dataframe\">\n",
       "  <thead>\n",
       "    <tr style=\"text-align: right;\">\n",
       "      <th></th>\n",
       "      <th>Author</th>\n",
       "      <th>Comment</th>\n",
       "      <th>Polarity</th>\n",
       "    </tr>\n",
       "  </thead>\n",
       "  <tbody>\n",
       "    <tr>\n",
       "      <th>0</th>\n",
       "      <td>Don Gillies</td>\n",
       "      <td>Nothing better than being young and in love.  ...</td>\n",
       "      <td>1.0</td>\n",
       "    </tr>\n",
       "    <tr>\n",
       "      <th>1</th>\n",
       "      <td>Dogeball</td>\n",
       "      <td>this song. . .</td>\n",
       "      <td>0.0</td>\n",
       "    </tr>\n",
       "    <tr>\n",
       "      <th>2</th>\n",
       "      <td>Varifiable Jelly</td>\n",
       "      <td>5 years and it ain t stopped. Dang</td>\n",
       "      <td>0.0</td>\n",
       "    </tr>\n",
       "    <tr>\n",
       "      <th>3</th>\n",
       "      <td>0</td>\n",
       "      <td>there is literally nobody in this world who do...</td>\n",
       "      <td>0.0</td>\n",
       "    </tr>\n",
       "    <tr>\n",
       "      <th>4</th>\n",
       "      <td>Nirmala Gowda</td>\n",
       "      <td>Me I  39</td>\n",
       "      <td>0.0</td>\n",
       "    </tr>\n",
       "  </tbody>\n",
       "</table>\n",
       "</div>"
      ],
      "text/plain": [
       "             Author                                            Comment  \\\n",
       "0       Don Gillies  Nothing better than being young and in love.  ...   \n",
       "1          Dogeball                                     this song. . .   \n",
       "2  Varifiable Jelly                 5 years and it ain t stopped. Dang   \n",
       "3                 0  there is literally nobody in this world who do...   \n",
       "4     Nirmala Gowda                                           Me I  39   \n",
       "\n",
       "   Polarity  \n",
       "0       1.0  \n",
       "1       0.0  \n",
       "2       0.0  \n",
       "3       0.0  \n",
       "4       0.0  "
      ]
     },
     "execution_count": 4,
     "metadata": {},
     "output_type": "execute_result"
    }
   ],
   "source": [
    "#make new dataframe for utilizing\n",
    "df = initial_data[['Author','Comment','Polarity']].copy()\n",
    "df.head()"
   ]
  },
  {
   "cell_type": "code",
   "execution_count": 5,
   "id": "eb41be83",
   "metadata": {},
   "outputs": [],
   "source": [
    "#convert comments to lower case\n",
    "# def lowercaseConverter(text):\n",
    "#     lower_text = [str(text[i]).lower() for i in range(len(text))]\n",
    "#     return lower_text"
   ]
  },
  {
   "cell_type": "code",
   "execution_count": 6,
   "id": "aff959c5",
   "metadata": {},
   "outputs": [],
   "source": [
    "#TESTING OUT TOKENIZATION\n",
    "#sentence tokenizing\n",
    "#sent_tok = [ sent_tokenize(str(sent)) for sent in df['Comment']]\n",
    "\n",
    "#word tokenizing\n",
    "#word_tok = [ word_tokenize(str(sent)) for sent in df['Comment']]"
   ]
  },
  {
   "cell_type": "code",
   "execution_count": 7,
   "id": "1e821ac5",
   "metadata": {},
   "outputs": [],
   "source": [
    "#removing special characters\n",
    "def specialCharacterRemover(word_tok):\n",
    "    no_special_char = []\n",
    "    for words in word_tok:\n",
    "        clean = []\n",
    "        for w in words:\n",
    "            res =re.sub(r'[^\\w\\s]',\"\",w)\n",
    "            if res != \"\":\n",
    "                clean.append(res)\n",
    "        no_special_char.append(clean)\n",
    "    return no_special_char"
   ]
  },
  {
   "cell_type": "code",
   "execution_count": 8,
   "id": "9694791b",
   "metadata": {},
   "outputs": [],
   "source": [
    "#removing stop words\n",
    "def stopWordsRemover(text):\n",
    "    no_stopwords = []\n",
    "    for words in text:\n",
    "        w=[]\n",
    "        for word in words:\n",
    "            if not word in stopwords.words('english'):\n",
    "                w.append(word)\n",
    "        no_stopwords.append(w)\n",
    "    return no_stopwords"
   ]
  },
  {
   "cell_type": "code",
   "execution_count": 9,
   "id": "da24452f",
   "metadata": {},
   "outputs": [],
   "source": [
    "#lemmatizing\n",
    "def lemmatizeWord(text):\n",
    "    lemmatized_words =[]\n",
    "    for words in text:\n",
    "        w=[]\n",
    "        for word in words:\n",
    "            a = port.lemmatize(word)\n",
    "            w.append(a)\n",
    "        lemmatized_words.append(w)\n",
    "    return lemmatized_words"
   ]
  },
  {
   "cell_type": "code",
   "execution_count": 10,
   "id": "3e9cceac",
   "metadata": {},
   "outputs": [],
   "source": [
    "X = df['Comment']\n",
    "y = df['Polarity']"
   ]
  },
  {
   "cell_type": "code",
   "execution_count": 11,
   "id": "62397077",
   "metadata": {},
   "outputs": [],
   "source": [
    "#train test split\n",
    "X_train, X_test, y_train, y_test = train_test_split(X, y, test_size=0.3, random_state=100, shuffle=True)"
   ]
  },
  {
   "cell_type": "code",
   "execution_count": 12,
   "id": "4d9455ec",
   "metadata": {},
   "outputs": [
    {
     "name": "stdout",
     "output_type": "stream",
     "text": [
      "Training data points: 11433 ; Testing data points: 4900\n"
     ]
    }
   ],
   "source": [
    "print(\"Training data points:\",len(y_train),\"; Testing data points:\",len(y_test))"
   ]
  },
  {
   "cell_type": "code",
   "execution_count": 13,
   "id": "4883f1b9",
   "metadata": {},
   "outputs": [],
   "source": [
    "#parameter is a list and return is also a list type\n",
    "def getCleanedText(text_data):\n",
    "    #word tokenize\n",
    "    tokens = [ word_tokenize(str(sent)) for sent in text_data]#lower_text]\n",
    "    #remove special characters\n",
    "    no_special = specialCharacterRemover(tokens)\n",
    "    #remove stop words\n",
    "    no_stopwords = stopWordsRemover(no_special)\n",
    "    #lemmatize text\n",
    "    lemmatized_text = lemmatizeWord(no_stopwords)\n",
    "    \n",
    "    return lemmatized_text"
   ]
  },
  {
   "cell_type": "code",
   "execution_count": 14,
   "id": "5d132d63",
   "metadata": {},
   "outputs": [],
   "source": [
    "X_clean = getCleanedText(X_train)"
   ]
  },
  {
   "cell_type": "code",
   "execution_count": 15,
   "id": "20435707",
   "metadata": {},
   "outputs": [],
   "source": [
    "Xt_clean = getCleanedText(X_test)"
   ]
  },
  {
   "cell_type": "code",
   "execution_count": 37,
   "id": "a6f502d3",
   "metadata": {},
   "outputs": [],
   "source": [
    "#vectorize\n",
    "from sklearn.feature_extraction.text import CountVectorizer\n",
    "cv = CountVectorizer(ngram_range =(1,2))\n",
    "\n",
    "def vectorize_text(list_text):\n",
    "    vec = []\n",
    "    for words in list_text:\n",
    "        for word in words:\n",
    "           vec.append(cv.fit_transform(word).toarray())         \n",
    "    print(vec)"
   ]
  },
  {
   "cell_type": "code",
   "execution_count": 38,
   "id": "81fe3f3b",
   "metadata": {},
   "outputs": [
    {
     "ename": "ValueError",
     "evalue": "Iterable over raw text documents expected, string object received.",
     "output_type": "error",
     "traceback": [
      "\u001b[0;31m---------------------------------------------------------------------------\u001b[0m",
      "\u001b[0;31mValueError\u001b[0m                                Traceback (most recent call last)",
      "Input \u001b[0;32mIn [38]\u001b[0m, in \u001b[0;36m<cell line: 1>\u001b[0;34m()\u001b[0m\n\u001b[0;32m----> 1\u001b[0m X_vec \u001b[38;5;241m=\u001b[39m \u001b[43mvectorize_text\u001b[49m\u001b[43m(\u001b[49m\u001b[43mX_clean\u001b[49m\u001b[43m)\u001b[49m\n",
      "Input \u001b[0;32mIn [37]\u001b[0m, in \u001b[0;36mvectorize_text\u001b[0;34m(list_text)\u001b[0m\n\u001b[1;32m      7\u001b[0m \u001b[38;5;28;01mfor\u001b[39;00m words \u001b[38;5;129;01min\u001b[39;00m list_text:\n\u001b[1;32m      8\u001b[0m     \u001b[38;5;28;01mfor\u001b[39;00m word \u001b[38;5;129;01min\u001b[39;00m words:\n\u001b[0;32m----> 9\u001b[0m        vec\u001b[38;5;241m.\u001b[39mappend(\u001b[43mcv\u001b[49m\u001b[38;5;241;43m.\u001b[39;49m\u001b[43mfit_transform\u001b[49m\u001b[43m(\u001b[49m\u001b[43mword\u001b[49m\u001b[43m)\u001b[49m\u001b[38;5;241m.\u001b[39mtoarray())         \n\u001b[1;32m     10\u001b[0m \u001b[38;5;28mprint\u001b[39m(vec)\n",
      "File \u001b[0;32m~/.local/lib/python3.9/site-packages/sklearn/feature_extraction/text.py:1309\u001b[0m, in \u001b[0;36mCountVectorizer.fit_transform\u001b[0;34m(self, raw_documents, y)\u001b[0m\n\u001b[1;32m   1305\u001b[0m \u001b[38;5;66;03m# We intentionally don't call the transform method to make\u001b[39;00m\n\u001b[1;32m   1306\u001b[0m \u001b[38;5;66;03m# fit_transform overridable without unwanted side effects in\u001b[39;00m\n\u001b[1;32m   1307\u001b[0m \u001b[38;5;66;03m# TfidfVectorizer.\u001b[39;00m\n\u001b[1;32m   1308\u001b[0m \u001b[38;5;28;01mif\u001b[39;00m \u001b[38;5;28misinstance\u001b[39m(raw_documents, \u001b[38;5;28mstr\u001b[39m):\n\u001b[0;32m-> 1309\u001b[0m     \u001b[38;5;28;01mraise\u001b[39;00m \u001b[38;5;167;01mValueError\u001b[39;00m(\n\u001b[1;32m   1310\u001b[0m         \u001b[38;5;124m\"\u001b[39m\u001b[38;5;124mIterable over raw text documents expected, string object received.\u001b[39m\u001b[38;5;124m\"\u001b[39m\n\u001b[1;32m   1311\u001b[0m     )\n\u001b[1;32m   1313\u001b[0m \u001b[38;5;28mself\u001b[39m\u001b[38;5;241m.\u001b[39m_validate_params()\n\u001b[1;32m   1314\u001b[0m \u001b[38;5;28mself\u001b[39m\u001b[38;5;241m.\u001b[39m_validate_vocabulary()\n",
      "\u001b[0;31mValueError\u001b[0m: Iterable over raw text documents expected, string object received."
     ]
    }
   ],
   "source": [
    "# X_vec = vectorize_text(X_clean)\n",
    "# Xt_vec = vectorize_text(Xt_clean)"
   ]
  },
  {
   "cell_type": "code",
   "execution_count": null,
   "id": "ccbc272a",
   "metadata": {},
   "outputs": [],
   "source": []
  }
 ],
 "metadata": {
  "kernelspec": {
   "display_name": "Python 3 (ipykernel)",
   "language": "python",
   "name": "python3"
  },
  "language_info": {
   "codemirror_mode": {
    "name": "ipython",
    "version": 3
   },
   "file_extension": ".py",
   "mimetype": "text/x-python",
   "name": "python",
   "nbconvert_exporter": "python",
   "pygments_lexer": "ipython3",
   "version": "3.9.7"
  }
 },
 "nbformat": 4,
 "nbformat_minor": 5
}
