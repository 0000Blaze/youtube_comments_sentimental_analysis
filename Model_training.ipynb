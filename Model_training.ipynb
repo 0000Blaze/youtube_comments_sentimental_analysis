{
 "cells": [
  {
   "cell_type": "code",
   "execution_count": 1,
   "id": "HPp7gAx7_EDS",
   "metadata": {
    "colab": {
     "base_uri": "https://localhost:8080/"
    },
    "id": "HPp7gAx7_EDS",
    "outputId": "28da2a7a-285c-4957-fae5-9a0a3ea7e232"
   },
   "outputs": [
    {
     "name": "stdout",
     "output_type": "stream",
     "text": [
      "Drive already mounted at /content/drive; to attempt to forcibly remount, call drive.mount(\"/content/drive\", force_remount=True).\n"
     ]
    }
   ],
   "source": [
    "from google.colab import drive\n",
    "drive.mount('/content/drive')"
   ]
  },
  {
   "cell_type": "code",
   "execution_count": 24,
   "id": "3dcabc5a",
   "metadata": {
    "colab": {
     "base_uri": "https://localhost:8080/"
    },
    "id": "3dcabc5a",
    "outputId": "ecc9e45f-1f8a-4dac-c2ba-feb8faa58c93"
   },
   "outputs": [
    {
     "name": "stderr",
     "output_type": "stream",
     "text": [
      "[nltk_data] Downloading package punkt to /home/rohan/nltk_data...\n",
      "[nltk_data]   Package punkt is already up-to-date!\n",
      "[nltk_data] Downloading package stopwords to /home/rohan/nltk_data...\n",
      "[nltk_data]   Package stopwords is already up-to-date!\n",
      "[nltk_data] Downloading package wordnet to /home/rohan/nltk_data...\n",
      "[nltk_data]   Package wordnet is already up-to-date!\n",
      "[nltk_data] Downloading package omw-1.4 to /home/rohan/nltk_data...\n",
      "[nltk_data]   Package omw-1.4 is already up-to-date!\n"
     ]
    }
   ],
   "source": [
    "import pandas as pd\n",
    "import re\n",
    "import nltk\n",
    "import pickle\n",
    "import math\n",
    "\n",
    "nltk.download('punkt')\n",
    "nltk.download('stopwords')\n",
    "nltk.download('wordnet')\n",
    "nltk.download('omw-1.4')\n",
    "\n",
    "from nltk.tokenize import sent_tokenize,word_tokenize\n",
    "from nltk.corpus import stopwords\n",
    "from nltk.stem import WordNetLemmatizer \n",
    "# from sklearn.model_selection import train_test_split\n",
    "from sklearn.naive_bayes import MultinomialNB\n",
    "\n",
    "mn = MultinomialNB()\n",
    "port = WordNetLemmatizer()"
   ]
  },
  {
   "cell_type": "code",
   "execution_count": 25,
   "id": "81b20460",
   "metadata": {
    "colab": {
     "base_uri": "https://localhost:8080/",
     "height": 206
    },
    "id": "81b20460",
    "outputId": "545dc041-3948-4644-a9e1-1883dba5f31c"
   },
   "outputs": [
    {
     "data": {
      "text/html": [
       "<div>\n",
       "<style scoped>\n",
       "    .dataframe tbody tr th:only-of-type {\n",
       "        vertical-align: middle;\n",
       "    }\n",
       "\n",
       "    .dataframe tbody tr th {\n",
       "        vertical-align: top;\n",
       "    }\n",
       "\n",
       "    .dataframe thead th {\n",
       "        text-align: right;\n",
       "    }\n",
       "</style>\n",
       "<table border=\"1\" class=\"dataframe\">\n",
       "  <thead>\n",
       "    <tr style=\"text-align: right;\">\n",
       "      <th></th>\n",
       "      <th>Author</th>\n",
       "      <th>Comment</th>\n",
       "      <th>Polarity</th>\n",
       "    </tr>\n",
       "  </thead>\n",
       "  <tbody>\n",
       "    <tr>\n",
       "      <th>0</th>\n",
       "      <td>Crazy Rabbit</td>\n",
       "      <td>thinking face</td>\n",
       "      <td>0.0</td>\n",
       "    </tr>\n",
       "    <tr>\n",
       "      <th>1</th>\n",
       "      <td>ishak laras</td>\n",
       "      <td>Bro trained then ate a fried chicken</td>\n",
       "      <td>-1.0</td>\n",
       "    </tr>\n",
       "    <tr>\n",
       "      <th>2</th>\n",
       "      <td>Love Lo fi Mix</td>\n",
       "      <td>Best LOFI Mix song watch my channel best song ...</td>\n",
       "      <td>1.0</td>\n",
       "    </tr>\n",
       "    <tr>\n",
       "      <th>3</th>\n",
       "      <td>LizzaMCPE</td>\n",
       "      <td>5.6B Views  Thats like, HALF OF THE WORLD</td>\n",
       "      <td>-1.0</td>\n",
       "    </tr>\n",
       "    <tr>\n",
       "      <th>4</th>\n",
       "      <td>filho do dono folded hands</td>\n",
       "      <td>Feat com o chefin ficou otimo..red heartflexed...</td>\n",
       "      <td>0.0</td>\n",
       "    </tr>\n",
       "  </tbody>\n",
       "</table>\n",
       "</div>"
      ],
      "text/plain": [
       "                       Author  \\\n",
       "0                Crazy Rabbit   \n",
       "1                 ishak laras   \n",
       "2              Love Lo fi Mix   \n",
       "3                   LizzaMCPE   \n",
       "4  filho do dono folded hands   \n",
       "\n",
       "                                             Comment  Polarity  \n",
       "0                                    thinking face         0.0  \n",
       "1               Bro trained then ate a fried chicken      -1.0  \n",
       "2  Best LOFI Mix song watch my channel best song ...       1.0  \n",
       "3          5.6B Views  Thats like, HALF OF THE WORLD      -1.0  \n",
       "4  Feat com o chefin ficou otimo..red heartflexed...       0.0  "
      ]
     },
     "execution_count": 25,
     "metadata": {},
     "output_type": "execute_result"
    }
   ],
   "source": [
    "# path =\"/content/drive/MyDrive/labelled_ShapeOfYou.csv\"\n",
    "path = \"labelled_data_limit_datapoints.csv\"\n",
    "initial_data = pd.read_csv(path,encoding='utf8');\n",
    "initial_data.head()"
   ]
  },
  {
   "cell_type": "code",
   "execution_count": 26,
   "id": "31675b46",
   "metadata": {
    "colab": {
     "base_uri": "https://localhost:8080/"
    },
    "id": "31675b46",
    "outputId": "dd561df1-3407-40dd-da8a-3257f0a629a4"
   },
   "outputs": [
    {
     "data": {
      "text/plain": [
       "(2577, 3)"
      ]
     },
     "execution_count": 26,
     "metadata": {},
     "output_type": "execute_result"
    }
   ],
   "source": [
    "initial_data.shape"
   ]
  },
  {
   "cell_type": "code",
   "execution_count": 5,
   "id": "0582bc0c",
   "metadata": {
    "id": "0582bc0c",
    "scrolled": true
   },
   "outputs": [],
   "source": [
    "#make new dataframe for utilizing\n",
    "# df = initial_data[['Author','Comment','Polarity']].copy()\n",
    "# df.head()"
   ]
  },
  {
   "cell_type": "code",
   "execution_count": 6,
   "id": "eb41be83",
   "metadata": {
    "id": "eb41be83"
   },
   "outputs": [],
   "source": [
    "#convert comments to lower case\n",
    "# def lowercaseConverter(text):\n",
    "#     lower_text = [str(text[i]).lower() for i in range(len(text))]\n",
    "#     return lower_text"
   ]
  },
  {
   "cell_type": "code",
   "execution_count": 7,
   "id": "aff959c5",
   "metadata": {
    "id": "aff959c5"
   },
   "outputs": [],
   "source": [
    "#TESTING OUT TOKENIZATION\n",
    "#sentence tokenizing\n",
    "#sent_tok = [ sent_tokenize(str(sent)) for sent in df['Comment']]\n",
    "\n",
    "#word tokenizing\n",
    "#word_tok = [ word_tokenize(str(sent)) for sent in df['Comment']]"
   ]
  },
  {
   "cell_type": "code",
   "execution_count": 27,
   "id": "1e821ac5",
   "metadata": {
    "id": "1e821ac5"
   },
   "outputs": [],
   "source": [
    "#removing special characters\n",
    "def specialCharacterRemover(word_tok):\n",
    "    no_special_char = []\n",
    "    for words in word_tok:\n",
    "        clean = []\n",
    "        for w in words:\n",
    "            res =re.sub(r'[^\\w\\s]',\"\",w)\n",
    "            if res != \"\":\n",
    "                clean.append(res)\n",
    "        no_special_char.append(clean)\n",
    "    return no_special_char"
   ]
  },
  {
   "cell_type": "code",
   "execution_count": 28,
   "id": "9694791b",
   "metadata": {
    "id": "9694791b"
   },
   "outputs": [],
   "source": [
    "#removing stop words\n",
    "def stopWordsRemover(text):\n",
    "    no_stopwords = []\n",
    "    for words in text:\n",
    "        w=[]\n",
    "        for word in words:\n",
    "            if not word in stopwords.words('english'):\n",
    "                w.append(word)\n",
    "        no_stopwords.append(w)\n",
    "    return no_stopwords"
   ]
  },
  {
   "cell_type": "code",
   "execution_count": 29,
   "id": "da24452f",
   "metadata": {
    "id": "da24452f"
   },
   "outputs": [],
   "source": [
    "#lemmatizing\n",
    "def lemmatizeWord(text):\n",
    "    lemmatized_words =[]\n",
    "    for words in text:\n",
    "        w=[]\n",
    "        for word in words:\n",
    "            a = port.lemmatize(word)\n",
    "            w.append(a)\n",
    "        lemmatized_words.append(w)\n",
    "    return lemmatized_words"
   ]
  },
  {
   "cell_type": "code",
   "execution_count": 30,
   "id": "dd60c433",
   "metadata": {
    "id": "dd60c433"
   },
   "outputs": [],
   "source": [
    "def wordListToString(list_words):\n",
    "    temp=[]\n",
    "    t=\"\"\n",
    "    for words in list_words:\n",
    "        t = \" \".join(words)\n",
    "        temp.append(t)\n",
    "    return(temp)"
   ]
  },
  {
   "cell_type": "code",
   "execution_count": 31,
   "id": "3e9cceac",
   "metadata": {
    "id": "3e9cceac"
   },
   "outputs": [],
   "source": [
    "X = initial_data['Comment']\n",
    "y = initial_data['Polarity']"
   ]
  },
  {
   "cell_type": "code",
   "execution_count": 32,
   "id": "4883f1b9",
   "metadata": {
    "id": "4883f1b9"
   },
   "outputs": [],
   "source": [
    "#parameter is a list and return is also a list type\n",
    "def getCleanedText(text_data):\n",
    "    #word tokenize\n",
    "    tokens = [ word_tokenize(str(sent)) for sent in text_data]#lower_text]\n",
    "    #remove special characters\n",
    "    no_special = specialCharacterRemover(tokens)\n",
    "    #remove stop words\n",
    "    no_stopwords = stopWordsRemover(no_special)\n",
    "    #lemmatize text\n",
    "    lemmatized_text = lemmatizeWord(no_stopwords)\n",
    "    #list of sentences\n",
    "    clean_text = wordListToString(lemmatized_text)\n",
    "    return clean_text"
   ]
  },
  {
   "cell_type": "code",
   "execution_count": 33,
   "id": "5d132d63",
   "metadata": {
    "id": "5d132d63"
   },
   "outputs": [],
   "source": [
    "# X_clean = getCleanedText(X)\n",
    "X = getCleanedText(X)"
   ]
  },
  {
   "cell_type": "code",
   "execution_count": 34,
   "id": "a6f502d3",
   "metadata": {
    "id": "a6f502d3"
   },
   "outputs": [],
   "source": [
    "#vectorize\n",
    "from sklearn.feature_extraction.text import CountVectorizer\n",
    "cv = CountVectorizer(ngram_range =(1,2))#,max_features=25000)\n",
    "\n",
    "def vectorize_text(list_text):\n",
    "    return (cv.fit_transform(list_text).toarray())             "
   ]
  },
  {
   "cell_type": "code",
   "execution_count": 35,
   "id": "81fe3f3b",
   "metadata": {
    "id": "81fe3f3b"
   },
   "outputs": [],
   "source": [
    "#bag of word model\n",
    "# X_vec = vectorize_text(X_clean)\n",
    "X = vectorize_text(X)"
   ]
  },
  {
   "cell_type": "code",
   "execution_count": 36,
   "id": "ccbc272a",
   "metadata": {
    "colab": {
     "base_uri": "https://localhost:8080/"
    },
    "id": "ccbc272a",
    "outputId": "2705b04f-f916-4171-8815-96e6b93c0482"
   },
   "outputs": [
    {
     "name": "stdout",
     "output_type": "stream",
     "text": [
      "Number of features 23391\n",
      "<class 'numpy.ndarray'>\n",
      "<class 'pandas.core.series.Series'>\n"
     ]
    },
    {
     "name": "stderr",
     "output_type": "stream",
     "text": [
      "/home/rohan/.local/lib/python3.9/site-packages/sklearn/utils/deprecation.py:87: FutureWarning: Function get_feature_names is deprecated; get_feature_names is deprecated in 1.0 and will be removed in 1.2. Please use get_feature_names_out instead.\n",
      "  warnings.warn(msg, category=FutureWarning)\n"
     ]
    }
   ],
   "source": [
    "print(\"Number of features\",len(cv.get_feature_names()))\n",
    "print(type(X))\n",
    "print(type(y))"
   ]
  },
  {
   "cell_type": "code",
   "execution_count": 37,
   "id": "62397077",
   "metadata": {
    "colab": {
     "base_uri": "https://localhost:8080/"
    },
    "id": "62397077",
    "outputId": "bd49c87b-865f-4edf-e1e8-3a1194c8b071"
   },
   "outputs": [
    {
     "name": "stdout",
     "output_type": "stream",
     "text": [
      "Total Number of rows in train: 2061\n",
      "Total Number of rows in test: 516\n"
     ]
    }
   ],
   "source": [
    "#train test split\n",
    "# X_train, X_test, y_train, y_test = train_test_split(X, y, test_size=0.3, random_state=100, shuffle=True)\n",
    "s_f = 0.8\n",
    "n_train = math.floor(s_f * X.shape[0])\n",
    "n_test = math.ceil((1-s_f) * X.shape[0])\n",
    "X_train = X[:n_train]\n",
    "y_train = y[:n_train]\n",
    "X_test = X[n_train:]\n",
    "y_test = y[n_train:]\n",
    "print(\"Total Number of rows in train:\",X_train.shape[0])\n",
    "print(\"Total Number of rows in test:\",X_test.shape[0])"
   ]
  },
  {
   "cell_type": "code",
   "execution_count": 38,
   "id": "4d9455ec",
   "metadata": {
    "colab": {
     "base_uri": "https://localhost:8080/"
    },
    "id": "4d9455ec",
    "outputId": "a78c661e-60c7-404f-aa85-a3a0da00fd0d"
   },
   "outputs": [
    {
     "name": "stdout",
     "output_type": "stream",
     "text": [
      "Training data points: 2061 ; Testing data points: 516\n"
     ]
    }
   ],
   "source": [
    "print(\"Training data points:\",len(y_train),\"; Testing data points:\",len(y_test))"
   ]
  },
  {
   "cell_type": "code",
   "execution_count": 39,
   "id": "c8690498",
   "metadata": {
    "colab": {
     "base_uri": "https://localhost:8080/"
    },
    "id": "c8690498",
    "outputId": "cd9c287c-f631-46b1-82b2-f3dab71e492a"
   },
   "outputs": [
    {
     "data": {
      "text/plain": [
       "MultinomialNB()"
      ]
     },
     "execution_count": 39,
     "metadata": {},
     "output_type": "execute_result"
    }
   ],
   "source": [
    "#train in multinomial naive bayes classifier\n",
    "mn.fit(X_train,y_train)"
   ]
  },
  {
   "cell_type": "code",
   "execution_count": 40,
   "id": "90c1f33e",
   "metadata": {
    "id": "90c1f33e"
   },
   "outputs": [],
   "source": [
    "#save trained model\n",
    "filename = 'finalized_model_limited_datapoints.sav'\n",
    "pickle.dump(mn,open(filename,'wb'))"
   ]
  },
  {
   "cell_type": "code",
   "execution_count": 41,
   "id": "F9dgZV7dDTZs",
   "metadata": {
    "id": "F9dgZV7dDTZs"
   },
   "outputs": [],
   "source": [
    "# print(len(Xt_vec[0]),len(y_test))\n",
    "y_pred = mn.predict(X_test)"
   ]
  },
  {
   "cell_type": "code",
   "execution_count": 42,
   "id": "LU0fmDxB5FOC",
   "metadata": {
    "id": "LU0fmDxB5FOC"
   },
   "outputs": [],
   "source": [
    "#convert pandas series to list\n",
    "y_test = y_test.to_list()"
   ]
  },
  {
   "cell_type": "code",
   "execution_count": 43,
   "id": "i_4n-8MD5PgF",
   "metadata": {
    "colab": {
     "base_uri": "https://localhost:8080/"
    },
    "id": "i_4n-8MD5PgF",
    "outputId": "2e0deac7-1f0f-4176-b86b-b7d9f69335db"
   },
   "outputs": [
    {
     "name": "stdout",
     "output_type": "stream",
     "text": [
      "1.0 1.0\n"
     ]
    }
   ],
   "source": [
    "print(y_test[23],y_pred[23])"
   ]
  },
  {
   "cell_type": "code",
   "execution_count": 44,
   "id": "EKRt70N95oNM",
   "metadata": {
    "id": "EKRt70N95oNM"
   },
   "outputs": [],
   "source": [
    "dict ={'label':y_test, 'prediction': y_pred}"
   ]
  },
  {
   "cell_type": "code",
   "execution_count": 45,
   "id": "ouQ9THob7KEw",
   "metadata": {
    "id": "ouQ9THob7KEw"
   },
   "outputs": [],
   "source": [
    "final_df = pd.DataFrame(dict)"
   ]
  },
  {
   "cell_type": "code",
   "execution_count": 46,
   "id": "NWeCOQVZ7LQw",
   "metadata": {
    "id": "NWeCOQVZ7LQw"
   },
   "outputs": [],
   "source": [
    "#save prediction and labels to csv\n",
    "final_df.to_csv('prediction_limited_datapoints.csv')"
   ]
  },
  {
   "cell_type": "code",
   "execution_count": null,
   "id": "8279bbec",
   "metadata": {},
   "outputs": [],
   "source": []
  }
 ],
 "metadata": {
  "colab": {
   "collapsed_sections": [],
   "name": "Model_training.ipynb",
   "provenance": []
  },
  "kernelspec": {
   "display_name": "Python 3 (ipykernel)",
   "language": "python",
   "name": "python3"
  },
  "language_info": {
   "codemirror_mode": {
    "name": "ipython",
    "version": 3
   },
   "file_extension": ".py",
   "mimetype": "text/x-python",
   "name": "python",
   "nbconvert_exporter": "python",
   "pygments_lexer": "ipython3",
   "version": "3.10.4"
  }
 },
 "nbformat": 4,
 "nbformat_minor": 5
}
