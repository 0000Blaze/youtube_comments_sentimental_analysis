{
  "cells": [
    {
      "cell_type": "code",
      "source": [
        "from google.colab import drive\n",
        "drive.mount('/content/drive')"
      ],
      "metadata": {
        "colab": {
          "base_uri": "https://localhost:8080/"
        },
        "id": "HPp7gAx7_EDS",
        "outputId": "28da2a7a-285c-4957-fae5-9a0a3ea7e232"
      },
      "id": "HPp7gAx7_EDS",
      "execution_count": 1,
      "outputs": [
        {
          "output_type": "stream",
          "name": "stdout",
          "text": [
            "Drive already mounted at /content/drive; to attempt to forcibly remount, call drive.mount(\"/content/drive\", force_remount=True).\n"
          ]
        }
      ]
    },
    {
      "cell_type": "code",
      "execution_count": 2,
      "id": "3dcabc5a",
      "metadata": {
        "colab": {
          "base_uri": "https://localhost:8080/"
        },
        "id": "3dcabc5a",
        "outputId": "ecc9e45f-1f8a-4dac-c2ba-feb8faa58c93"
      },
      "outputs": [
        {
          "output_type": "stream",
          "name": "stdout",
          "text": [
            "[nltk_data] Downloading package punkt to /root/nltk_data...\n",
            "[nltk_data]   Package punkt is already up-to-date!\n",
            "[nltk_data] Downloading package stopwords to /root/nltk_data...\n",
            "[nltk_data]   Package stopwords is already up-to-date!\n",
            "[nltk_data] Downloading package wordnet to /root/nltk_data...\n",
            "[nltk_data]   Package wordnet is already up-to-date!\n",
            "[nltk_data] Downloading package omw-1.4 to /root/nltk_data...\n",
            "[nltk_data]   Package omw-1.4 is already up-to-date!\n"
          ]
        }
      ],
      "source": [
        "import pandas as pd\n",
        "import re\n",
        "import nltk\n",
        "import pickle\n",
        "import math\n",
        "\n",
        "nltk.download('punkt')\n",
        "nltk.download('stopwords')\n",
        "nltk.download('wordnet')\n",
        "nltk.download('omw-1.4')\n",
        "\n",
        "from nltk.tokenize import sent_tokenize,word_tokenize\n",
        "from nltk.corpus import stopwords\n",
        "from nltk.stem import WordNetLemmatizer \n",
        "# from sklearn.model_selection import train_test_split\n",
        "from sklearn.naive_bayes import MultinomialNB\n",
        "\n",
        "mn = MultinomialNB()\n",
        "port = WordNetLemmatizer()"
      ]
    },
    {
      "cell_type": "code",
      "execution_count": 3,
      "id": "81b20460",
      "metadata": {
        "colab": {
          "base_uri": "https://localhost:8080/",
          "height": 206
        },
        "id": "81b20460",
        "outputId": "545dc041-3948-4644-a9e1-1883dba5f31c"
      },
      "outputs": [
        {
          "output_type": "execute_result",
          "data": {
            "text/plain": [
              "             Author                                            Comment  \\\n",
              "0       Don Gillies  Nothing better than being young and in love.  ...   \n",
              "1          Dogeball                                     this song. . .   \n",
              "2  Varifiable Jelly                 5 years and it ain t stopped. Dang   \n",
              "3                 0  there is literally nobody in this world who do...   \n",
              "4     Nirmala Gowda                                           Me I  39   \n",
              "\n",
              "   Polarity  \n",
              "0       1.0  \n",
              "1       0.0  \n",
              "2       0.0  \n",
              "3       0.0  \n",
              "4       0.0  "
            ],
            "text/html": [
              "\n",
              "  <div id=\"df-17adc317-1f71-4c2b-8016-318600226f9a\">\n",
              "    <div class=\"colab-df-container\">\n",
              "      <div>\n",
              "<style scoped>\n",
              "    .dataframe tbody tr th:only-of-type {\n",
              "        vertical-align: middle;\n",
              "    }\n",
              "\n",
              "    .dataframe tbody tr th {\n",
              "        vertical-align: top;\n",
              "    }\n",
              "\n",
              "    .dataframe thead th {\n",
              "        text-align: right;\n",
              "    }\n",
              "</style>\n",
              "<table border=\"1\" class=\"dataframe\">\n",
              "  <thead>\n",
              "    <tr style=\"text-align: right;\">\n",
              "      <th></th>\n",
              "      <th>Author</th>\n",
              "      <th>Comment</th>\n",
              "      <th>Polarity</th>\n",
              "    </tr>\n",
              "  </thead>\n",
              "  <tbody>\n",
              "    <tr>\n",
              "      <th>0</th>\n",
              "      <td>Don Gillies</td>\n",
              "      <td>Nothing better than being young and in love.  ...</td>\n",
              "      <td>1.0</td>\n",
              "    </tr>\n",
              "    <tr>\n",
              "      <th>1</th>\n",
              "      <td>Dogeball</td>\n",
              "      <td>this song. . .</td>\n",
              "      <td>0.0</td>\n",
              "    </tr>\n",
              "    <tr>\n",
              "      <th>2</th>\n",
              "      <td>Varifiable Jelly</td>\n",
              "      <td>5 years and it ain t stopped. Dang</td>\n",
              "      <td>0.0</td>\n",
              "    </tr>\n",
              "    <tr>\n",
              "      <th>3</th>\n",
              "      <td>0</td>\n",
              "      <td>there is literally nobody in this world who do...</td>\n",
              "      <td>0.0</td>\n",
              "    </tr>\n",
              "    <tr>\n",
              "      <th>4</th>\n",
              "      <td>Nirmala Gowda</td>\n",
              "      <td>Me I  39</td>\n",
              "      <td>0.0</td>\n",
              "    </tr>\n",
              "  </tbody>\n",
              "</table>\n",
              "</div>\n",
              "      <button class=\"colab-df-convert\" onclick=\"convertToInteractive('df-17adc317-1f71-4c2b-8016-318600226f9a')\"\n",
              "              title=\"Convert this dataframe to an interactive table.\"\n",
              "              style=\"display:none;\">\n",
              "        \n",
              "  <svg xmlns=\"http://www.w3.org/2000/svg\" height=\"24px\"viewBox=\"0 0 24 24\"\n",
              "       width=\"24px\">\n",
              "    <path d=\"M0 0h24v24H0V0z\" fill=\"none\"/>\n",
              "    <path d=\"M18.56 5.44l.94 2.06.94-2.06 2.06-.94-2.06-.94-.94-2.06-.94 2.06-2.06.94zm-11 1L8.5 8.5l.94-2.06 2.06-.94-2.06-.94L8.5 2.5l-.94 2.06-2.06.94zm10 10l.94 2.06.94-2.06 2.06-.94-2.06-.94-.94-2.06-.94 2.06-2.06.94z\"/><path d=\"M17.41 7.96l-1.37-1.37c-.4-.4-.92-.59-1.43-.59-.52 0-1.04.2-1.43.59L10.3 9.45l-7.72 7.72c-.78.78-.78 2.05 0 2.83L4 21.41c.39.39.9.59 1.41.59.51 0 1.02-.2 1.41-.59l7.78-7.78 2.81-2.81c.8-.78.8-2.07 0-2.86zM5.41 20L4 18.59l7.72-7.72 1.47 1.35L5.41 20z\"/>\n",
              "  </svg>\n",
              "      </button>\n",
              "      \n",
              "  <style>\n",
              "    .colab-df-container {\n",
              "      display:flex;\n",
              "      flex-wrap:wrap;\n",
              "      gap: 12px;\n",
              "    }\n",
              "\n",
              "    .colab-df-convert {\n",
              "      background-color: #E8F0FE;\n",
              "      border: none;\n",
              "      border-radius: 50%;\n",
              "      cursor: pointer;\n",
              "      display: none;\n",
              "      fill: #1967D2;\n",
              "      height: 32px;\n",
              "      padding: 0 0 0 0;\n",
              "      width: 32px;\n",
              "    }\n",
              "\n",
              "    .colab-df-convert:hover {\n",
              "      background-color: #E2EBFA;\n",
              "      box-shadow: 0px 1px 2px rgba(60, 64, 67, 0.3), 0px 1px 3px 1px rgba(60, 64, 67, 0.15);\n",
              "      fill: #174EA6;\n",
              "    }\n",
              "\n",
              "    [theme=dark] .colab-df-convert {\n",
              "      background-color: #3B4455;\n",
              "      fill: #D2E3FC;\n",
              "    }\n",
              "\n",
              "    [theme=dark] .colab-df-convert:hover {\n",
              "      background-color: #434B5C;\n",
              "      box-shadow: 0px 1px 3px 1px rgba(0, 0, 0, 0.15);\n",
              "      filter: drop-shadow(0px 1px 2px rgba(0, 0, 0, 0.3));\n",
              "      fill: #FFFFFF;\n",
              "    }\n",
              "  </style>\n",
              "\n",
              "      <script>\n",
              "        const buttonEl =\n",
              "          document.querySelector('#df-17adc317-1f71-4c2b-8016-318600226f9a button.colab-df-convert');\n",
              "        buttonEl.style.display =\n",
              "          google.colab.kernel.accessAllowed ? 'block' : 'none';\n",
              "\n",
              "        async function convertToInteractive(key) {\n",
              "          const element = document.querySelector('#df-17adc317-1f71-4c2b-8016-318600226f9a');\n",
              "          const dataTable =\n",
              "            await google.colab.kernel.invokeFunction('convertToInteractive',\n",
              "                                                     [key], {});\n",
              "          if (!dataTable) return;\n",
              "\n",
              "          const docLinkHtml = 'Like what you see? Visit the ' +\n",
              "            '<a target=\"_blank\" href=https://colab.research.google.com/notebooks/data_table.ipynb>data table notebook</a>'\n",
              "            + ' to learn more about interactive tables.';\n",
              "          element.innerHTML = '';\n",
              "          dataTable['output_type'] = 'display_data';\n",
              "          await google.colab.output.renderOutput(dataTable, element);\n",
              "          const docLink = document.createElement('div');\n",
              "          docLink.innerHTML = docLinkHtml;\n",
              "          element.appendChild(docLink);\n",
              "        }\n",
              "      </script>\n",
              "    </div>\n",
              "  </div>\n",
              "  "
            ]
          },
          "metadata": {},
          "execution_count": 3
        }
      ],
      "source": [
        "path =\"/content/drive/MyDrive/labelled_ShapeOfYou.csv\"\n",
        "initial_data = pd.read_csv(path,encoding='utf8');\n",
        "initial_data.head()"
      ]
    },
    {
      "cell_type": "code",
      "execution_count": 4,
      "id": "31675b46",
      "metadata": {
        "colab": {
          "base_uri": "https://localhost:8080/"
        },
        "id": "31675b46",
        "outputId": "dd561df1-3407-40dd-da8a-3257f0a629a4"
      },
      "outputs": [
        {
          "output_type": "execute_result",
          "data": {
            "text/plain": [
              "(16333, 3)"
            ]
          },
          "metadata": {},
          "execution_count": 4
        }
      ],
      "source": [
        "initial_data.shape"
      ]
    },
    {
      "cell_type": "code",
      "execution_count": 5,
      "id": "0582bc0c",
      "metadata": {
        "scrolled": true,
        "id": "0582bc0c"
      },
      "outputs": [],
      "source": [
        "#make new dataframe for utilizing\n",
        "# df = initial_data[['Author','Comment','Polarity']].copy()\n",
        "# df.head()"
      ]
    },
    {
      "cell_type": "code",
      "execution_count": 6,
      "id": "eb41be83",
      "metadata": {
        "id": "eb41be83"
      },
      "outputs": [],
      "source": [
        "#convert comments to lower case\n",
        "# def lowercaseConverter(text):\n",
        "#     lower_text = [str(text[i]).lower() for i in range(len(text))]\n",
        "#     return lower_text"
      ]
    },
    {
      "cell_type": "code",
      "execution_count": 7,
      "id": "aff959c5",
      "metadata": {
        "id": "aff959c5"
      },
      "outputs": [],
      "source": [
        "#TESTING OUT TOKENIZATION\n",
        "#sentence tokenizing\n",
        "#sent_tok = [ sent_tokenize(str(sent)) for sent in df['Comment']]\n",
        "\n",
        "#word tokenizing\n",
        "#word_tok = [ word_tokenize(str(sent)) for sent in df['Comment']]"
      ]
    },
    {
      "cell_type": "code",
      "execution_count": 8,
      "id": "1e821ac5",
      "metadata": {
        "id": "1e821ac5"
      },
      "outputs": [],
      "source": [
        "#removing special characters\n",
        "def specialCharacterRemover(word_tok):\n",
        "    no_special_char = []\n",
        "    for words in word_tok:\n",
        "        clean = []\n",
        "        for w in words:\n",
        "            res =re.sub(r'[^\\w\\s]',\"\",w)\n",
        "            if res != \"\":\n",
        "                clean.append(res)\n",
        "        no_special_char.append(clean)\n",
        "    return no_special_char"
      ]
    },
    {
      "cell_type": "code",
      "execution_count": 9,
      "id": "9694791b",
      "metadata": {
        "id": "9694791b"
      },
      "outputs": [],
      "source": [
        "#removing stop words\n",
        "def stopWordsRemover(text):\n",
        "    no_stopwords = []\n",
        "    for words in text:\n",
        "        w=[]\n",
        "        for word in words:\n",
        "            if not word in stopwords.words('english'):\n",
        "                w.append(word)\n",
        "        no_stopwords.append(w)\n",
        "    return no_stopwords"
      ]
    },
    {
      "cell_type": "code",
      "execution_count": 10,
      "id": "da24452f",
      "metadata": {
        "id": "da24452f"
      },
      "outputs": [],
      "source": [
        "#lemmatizing\n",
        "def lemmatizeWord(text):\n",
        "    lemmatized_words =[]\n",
        "    for words in text:\n",
        "        w=[]\n",
        "        for word in words:\n",
        "            a = port.lemmatize(word)\n",
        "            w.append(a)\n",
        "        lemmatized_words.append(w)\n",
        "    return lemmatized_words"
      ]
    },
    {
      "cell_type": "code",
      "execution_count": 11,
      "id": "dd60c433",
      "metadata": {
        "id": "dd60c433"
      },
      "outputs": [],
      "source": [
        "def wordListToString(list_words):\n",
        "    temp=[]\n",
        "    t=\"\"\n",
        "    for words in list_words:\n",
        "        t = \" \".join(words)\n",
        "        temp.append(t)\n",
        "    return(temp)"
      ]
    },
    {
      "cell_type": "code",
      "execution_count": 12,
      "id": "3e9cceac",
      "metadata": {
        "id": "3e9cceac"
      },
      "outputs": [],
      "source": [
        "X = initial_data['Comment']\n",
        "y = initial_data['Polarity']"
      ]
    },
    {
      "cell_type": "code",
      "execution_count": 13,
      "id": "4883f1b9",
      "metadata": {
        "id": "4883f1b9"
      },
      "outputs": [],
      "source": [
        "#parameter is a list and return is also a list type\n",
        "def getCleanedText(text_data):\n",
        "    #word tokenize\n",
        "    tokens = [ word_tokenize(str(sent)) for sent in text_data]#lower_text]\n",
        "    #remove special characters\n",
        "    no_special = specialCharacterRemover(tokens)\n",
        "    #remove stop words\n",
        "    no_stopwords = stopWordsRemover(no_special)\n",
        "    #lemmatize text\n",
        "    lemmatized_text = lemmatizeWord(no_stopwords)\n",
        "    #list of sentences\n",
        "    clean_text = wordListToString(lemmatized_text)\n",
        "    return clean_text"
      ]
    },
    {
      "cell_type": "code",
      "execution_count": 14,
      "id": "5d132d63",
      "metadata": {
        "id": "5d132d63"
      },
      "outputs": [],
      "source": [
        "# X_clean = getCleanedText(X)\n",
        "X = getCleanedText(X)"
      ]
    },
    {
      "cell_type": "code",
      "execution_count": 15,
      "id": "a6f502d3",
      "metadata": {
        "id": "a6f502d3"
      },
      "outputs": [],
      "source": [
        "#vectorize\n",
        "from sklearn.feature_extraction.text import CountVectorizer\n",
        "cv = CountVectorizer(ngram_range =(1,2))\n",
        "\n",
        "def vectorize_text(list_text):\n",
        "    return (cv.fit_transform(list_text).toarray())             "
      ]
    },
    {
      "cell_type": "code",
      "execution_count": 16,
      "id": "81fe3f3b",
      "metadata": {
        "id": "81fe3f3b"
      },
      "outputs": [],
      "source": [
        "#bag of word model\n",
        "# X_vec = vectorize_text(X_clean)\n",
        "X = vectorize_text(X)"
      ]
    },
    {
      "cell_type": "code",
      "execution_count": 17,
      "id": "ccbc272a",
      "metadata": {
        "colab": {
          "base_uri": "https://localhost:8080/"
        },
        "id": "ccbc272a",
        "outputId": "2705b04f-f916-4171-8815-96e6b93c0482"
      },
      "outputs": [
        {
          "output_type": "stream",
          "name": "stdout",
          "text": [
            "Number of features 68369\n",
            "<class 'numpy.ndarray'>\n",
            "<class 'pandas.core.series.Series'>\n"
          ]
        },
        {
          "output_type": "stream",
          "name": "stderr",
          "text": [
            "/usr/local/lib/python3.7/dist-packages/sklearn/utils/deprecation.py:87: FutureWarning: Function get_feature_names is deprecated; get_feature_names is deprecated in 1.0 and will be removed in 1.2. Please use get_feature_names_out instead.\n",
            "  warnings.warn(msg, category=FutureWarning)\n"
          ]
        }
      ],
      "source": [
        "print(\"Number of features\",len(cv.get_feature_names()))\n",
        "print(type(X))\n",
        "print(type(y))"
      ]
    },
    {
      "cell_type": "code",
      "execution_count": 18,
      "id": "62397077",
      "metadata": {
        "id": "62397077",
        "colab": {
          "base_uri": "https://localhost:8080/"
        },
        "outputId": "bd49c87b-865f-4edf-e1e8-3a1194c8b071"
      },
      "outputs": [
        {
          "output_type": "stream",
          "name": "stdout",
          "text": [
            "Total Number of rows in train: 13066\n",
            "Total Number of rows in test: 3267\n"
          ]
        }
      ],
      "source": [
        "#train test split\n",
        "# X_train, X_test, y_train, y_test = train_test_split(X, y, test_size=0.3, random_state=100, shuffle=True)\n",
        "s_f = 0.8\n",
        "n_train = math.floor(s_f * X.shape[0])\n",
        "n_test = math.ceil((1-s_f) * X.shape[0])\n",
        "X_train = X[:n_train]\n",
        "y_train = y[:n_train]\n",
        "X_test = X[n_train:]\n",
        "y_test = y[n_train:]\n",
        "print(\"Total Number of rows in train:\",X_train.shape[0])\n",
        "print(\"Total Number of rows in test:\",X_test.shape[0])"
      ]
    },
    {
      "cell_type": "code",
      "execution_count": 19,
      "id": "4d9455ec",
      "metadata": {
        "colab": {
          "base_uri": "https://localhost:8080/"
        },
        "id": "4d9455ec",
        "outputId": "a78c661e-60c7-404f-aa85-a3a0da00fd0d"
      },
      "outputs": [
        {
          "output_type": "stream",
          "name": "stdout",
          "text": [
            "Training data points: 13066 ; Testing data points: 3267\n"
          ]
        }
      ],
      "source": [
        "print(\"Training data points:\",len(y_train),\"; Testing data points:\",len(y_test))"
      ]
    },
    {
      "cell_type": "code",
      "execution_count": 20,
      "id": "c8690498",
      "metadata": {
        "colab": {
          "base_uri": "https://localhost:8080/"
        },
        "id": "c8690498",
        "outputId": "cd9c287c-f631-46b1-82b2-f3dab71e492a"
      },
      "outputs": [
        {
          "output_type": "execute_result",
          "data": {
            "text/plain": [
              "MultinomialNB()"
            ]
          },
          "metadata": {},
          "execution_count": 20
        }
      ],
      "source": [
        "#train in multinomial naive bayes classifier\n",
        "mn.fit(X_train,y_train)"
      ]
    },
    {
      "cell_type": "code",
      "execution_count": 21,
      "id": "90c1f33e",
      "metadata": {
        "id": "90c1f33e"
      },
      "outputs": [],
      "source": [
        "#save trained model\n",
        "filename = 'finalized_model.sav'\n",
        "pickle.dump(mn,open(filename,'wb'))"
      ]
    },
    {
      "cell_type": "code",
      "source": [
        "# print(len(Xt_vec[0]),len(y_test))\n",
        "y_pred = mn.predict(X_test)"
      ],
      "metadata": {
        "id": "F9dgZV7dDTZs"
      },
      "id": "F9dgZV7dDTZs",
      "execution_count": 23,
      "outputs": []
    },
    {
      "cell_type": "code",
      "source": [
        "#convert pandas series to list\n",
        "y_test = y_test.to_list()"
      ],
      "metadata": {
        "id": "LU0fmDxB5FOC"
      },
      "id": "LU0fmDxB5FOC",
      "execution_count": 33,
      "outputs": []
    },
    {
      "cell_type": "code",
      "source": [
        "print(y_test[23],y_pred[23])"
      ],
      "metadata": {
        "colab": {
          "base_uri": "https://localhost:8080/"
        },
        "id": "i_4n-8MD5PgF",
        "outputId": "2e0deac7-1f0f-4176-b86b-b7d9f69335db"
      },
      "id": "i_4n-8MD5PgF",
      "execution_count": 38,
      "outputs": [
        {
          "output_type": "stream",
          "name": "stdout",
          "text": [
            "0.0 0.0\n"
          ]
        }
      ]
    },
    {
      "cell_type": "code",
      "source": [
        "dict ={'label':y_test, 'prediction': y_pred}"
      ],
      "metadata": {
        "id": "EKRt70N95oNM"
      },
      "id": "EKRt70N95oNM",
      "execution_count": 39,
      "outputs": []
    },
    {
      "cell_type": "code",
      "source": [
        "final_df = pd.DataFrame(dict)"
      ],
      "metadata": {
        "id": "ouQ9THob7KEw"
      },
      "id": "ouQ9THob7KEw",
      "execution_count": 41,
      "outputs": []
    },
    {
      "cell_type": "code",
      "source": [
        "#save prediction and labels to csv\n",
        "final_df.to_csv('prediction.csv')"
      ],
      "metadata": {
        "id": "NWeCOQVZ7LQw"
      },
      "id": "NWeCOQVZ7LQw",
      "execution_count": 42,
      "outputs": []
    }
  ],
  "metadata": {
    "kernelspec": {
      "display_name": "Python 3 (ipykernel)",
      "language": "python",
      "name": "python3"
    },
    "language_info": {
      "codemirror_mode": {
        "name": "ipython",
        "version": 3
      },
      "file_extension": ".py",
      "mimetype": "text/x-python",
      "name": "python",
      "nbconvert_exporter": "python",
      "pygments_lexer": "ipython3",
      "version": "3.9.7"
    },
    "colab": {
      "name": "Model_training.ipynb",
      "provenance": [],
      "collapsed_sections": []
    }
  },
  "nbformat": 4,
  "nbformat_minor": 5
}