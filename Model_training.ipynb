{
 "cells": [
  {
   "cell_type": "code",
   "execution_count": 1,
   "id": "61e3abf5",
   "metadata": {},
   "outputs": [],
   "source": [
    "import pandas as pd"
   ]
  },
  {
   "cell_type": "code",
   "execution_count": 9,
   "id": "d501e316",
   "metadata": {},
   "outputs": [],
   "source": [
    "initial_data = pd.read_csv('labelled_ShapeOfYou.csv',encoding='utf8');"
   ]
  },
  {
   "cell_type": "code",
   "execution_count": 10,
   "id": "fa00281b",
   "metadata": {},
   "outputs": [
    {
     "data": {
      "text/html": [
       "<div>\n",
       "<style scoped>\n",
       "    .dataframe tbody tr th:only-of-type {\n",
       "        vertical-align: middle;\n",
       "    }\n",
       "\n",
       "    .dataframe tbody tr th {\n",
       "        vertical-align: top;\n",
       "    }\n",
       "\n",
       "    .dataframe thead th {\n",
       "        text-align: right;\n",
       "    }\n",
       "</style>\n",
       "<table border=\"1\" class=\"dataframe\">\n",
       "  <thead>\n",
       "    <tr style=\"text-align: right;\">\n",
       "      <th></th>\n",
       "      <th>Author</th>\n",
       "      <th>Comment</th>\n",
       "      <th>Polarity</th>\n",
       "    </tr>\n",
       "  </thead>\n",
       "  <tbody>\n",
       "    <tr>\n",
       "      <th>0</th>\n",
       "      <td>Don Gillies</td>\n",
       "      <td>Nothing better than being young and in love.  ...</td>\n",
       "      <td>1.0</td>\n",
       "    </tr>\n",
       "    <tr>\n",
       "      <th>1</th>\n",
       "      <td>Dogeball</td>\n",
       "      <td>this song. . .</td>\n",
       "      <td>0.0</td>\n",
       "    </tr>\n",
       "    <tr>\n",
       "      <th>2</th>\n",
       "      <td>Varifiable Jelly</td>\n",
       "      <td>5 years and it ain t stopped. Dang</td>\n",
       "      <td>0.0</td>\n",
       "    </tr>\n",
       "    <tr>\n",
       "      <th>3</th>\n",
       "      <td>0</td>\n",
       "      <td>there is literally nobody in this world who do...</td>\n",
       "      <td>0.0</td>\n",
       "    </tr>\n",
       "    <tr>\n",
       "      <th>4</th>\n",
       "      <td>Nirmala Gowda</td>\n",
       "      <td>Me I  39</td>\n",
       "      <td>0.0</td>\n",
       "    </tr>\n",
       "  </tbody>\n",
       "</table>\n",
       "</div>"
      ],
      "text/plain": [
       "             Author                                            Comment  \\\n",
       "0       Don Gillies  Nothing better than being young and in love.  ...   \n",
       "1          Dogeball                                     this song. . .   \n",
       "2  Varifiable Jelly                 5 years and it ain t stopped. Dang   \n",
       "3                 0  there is literally nobody in this world who do...   \n",
       "4     Nirmala Gowda                                           Me I  39   \n",
       "\n",
       "   Polarity  \n",
       "0       1.0  \n",
       "1       0.0  \n",
       "2       0.0  \n",
       "3       0.0  \n",
       "4       0.0  "
      ]
     },
     "execution_count": 10,
     "metadata": {},
     "output_type": "execute_result"
    }
   ],
   "source": [
    "initial_data.head()"
   ]
  },
  {
   "cell_type": "code",
   "execution_count": 12,
   "id": "fc52708f",
   "metadata": {},
   "outputs": [
    {
     "data": {
      "text/plain": [
       "(16333, 3)"
      ]
     },
     "execution_count": 12,
     "metadata": {},
     "output_type": "execute_result"
    }
   ],
   "source": [
    "initial_data.shape"
   ]
  },
  {
   "cell_type": "code",
   "execution_count": 13,
   "id": "14f04071",
   "metadata": {},
   "outputs": [
    {
     "data": {
      "text/html": [
       "<div>\n",
       "<style scoped>\n",
       "    .dataframe tbody tr th:only-of-type {\n",
       "        vertical-align: middle;\n",
       "    }\n",
       "\n",
       "    .dataframe tbody tr th {\n",
       "        vertical-align: top;\n",
       "    }\n",
       "\n",
       "    .dataframe thead th {\n",
       "        text-align: right;\n",
       "    }\n",
       "</style>\n",
       "<table border=\"1\" class=\"dataframe\">\n",
       "  <thead>\n",
       "    <tr style=\"text-align: right;\">\n",
       "      <th></th>\n",
       "      <th>Author</th>\n",
       "      <th>Comment</th>\n",
       "    </tr>\n",
       "  </thead>\n",
       "  <tbody>\n",
       "    <tr>\n",
       "      <th>0</th>\n",
       "      <td>Don Gillies</td>\n",
       "      <td>Nothing better than being young and in love.  ...</td>\n",
       "    </tr>\n",
       "    <tr>\n",
       "      <th>1</th>\n",
       "      <td>Dogeball</td>\n",
       "      <td>this song. . .</td>\n",
       "    </tr>\n",
       "    <tr>\n",
       "      <th>2</th>\n",
       "      <td>Varifiable Jelly</td>\n",
       "      <td>5 years and it ain t stopped. Dang</td>\n",
       "    </tr>\n",
       "    <tr>\n",
       "      <th>3</th>\n",
       "      <td>0</td>\n",
       "      <td>there is literally nobody in this world who do...</td>\n",
       "    </tr>\n",
       "    <tr>\n",
       "      <th>4</th>\n",
       "      <td>Nirmala Gowda</td>\n",
       "      <td>Me I  39</td>\n",
       "    </tr>\n",
       "  </tbody>\n",
       "</table>\n",
       "</div>"
      ],
      "text/plain": [
       "             Author                                            Comment\n",
       "0       Don Gillies  Nothing better than being young and in love.  ...\n",
       "1          Dogeball                                     this song. . .\n",
       "2  Varifiable Jelly                 5 years and it ain t stopped. Dang\n",
       "3                 0  there is literally nobody in this world who do...\n",
       "4     Nirmala Gowda                                           Me I  39"
      ]
     },
     "execution_count": 13,
     "metadata": {},
     "output_type": "execute_result"
    }
   ],
   "source": [
    "#make new dataframe for utilizing\n",
    "df = initial_data[['Author','Comment']].copy()\n",
    "df.head()"
   ]
  },
  {
   "cell_type": "code",
   "execution_count": 17,
   "id": "37189677",
   "metadata": {},
   "outputs": [],
   "source": [
    "#convert comments to lower case\n",
    "for i in range(len(df)):\n",
    "    df['Comment'][i] = str(df['Comment'][i]).lower()"
   ]
  },
  {
   "cell_type": "code",
   "execution_count": 21,
   "id": "a39309b3",
   "metadata": {},
   "outputs": [
    {
     "name": "stderr",
     "output_type": "stream",
     "text": [
      "[nltk_data] Downloading package punkt to /home/rohan/nltk_data...\n",
      "[nltk_data]   Unzipping tokenizers/punkt.zip.\n"
     ]
    },
    {
     "data": {
      "text/plain": [
       "True"
      ]
     },
     "execution_count": 21,
     "metadata": {},
     "output_type": "execute_result"
    }
   ],
   "source": [
    "from nltk.tokenize import sent_tokenize,word_tokenize\n",
    "\n",
    "import nltk\n",
    "nltk.download('punkt')"
   ]
  },
  {
   "cell_type": "code",
   "execution_count": 23,
   "id": "cd8fbb95",
   "metadata": {},
   "outputs": [],
   "source": [
    "#sentence tokenizing\n",
    "sent_tok = [ sent_tokenize(str(sent)) for sent in df['Comment']]"
   ]
  },
  {
   "cell_type": "code",
   "execution_count": 24,
   "id": "1e55c74c",
   "metadata": {},
   "outputs": [],
   "source": [
    "#word tokenizing\n",
    "word_tok = [ word_tokenize(str(sent)) for sent in df['Comment']]"
   ]
  },
  {
   "cell_type": "code",
   "execution_count": 28,
   "id": "7a4c6506",
   "metadata": {},
   "outputs": [],
   "source": [
    "import re"
   ]
  },
  {
   "cell_type": "code",
   "execution_count": 39,
   "id": "eb3ee4c2",
   "metadata": {},
   "outputs": [],
   "source": [
    "#removing special characters\n",
    "clean_word = []\n",
    "for words in word_tok:\n",
    "    clean = []\n",
    "    for w in words:\n",
    "        res =re.sub(r'[^\\w\\s]',\"\",w)\n",
    "        if res != \"\":\n",
    "            clean.append(res)\n",
    "    clean_word.append(clean)"
   ]
  },
  {
   "cell_type": "code",
   "execution_count": 41,
   "id": "3740ac05",
   "metadata": {},
   "outputs": [
    {
     "name": "stderr",
     "output_type": "stream",
     "text": [
      "[nltk_data] Downloading package stopwords to /home/rohan/nltk_data...\n",
      "[nltk_data]   Unzipping corpora/stopwords.zip.\n"
     ]
    },
    {
     "data": {
      "text/plain": [
       "True"
      ]
     },
     "execution_count": 41,
     "metadata": {},
     "output_type": "execute_result"
    }
   ],
   "source": [
    "nltk.download('stopwords')"
   ]
  },
  {
   "cell_type": "code",
   "execution_count": 42,
   "id": "452fd331",
   "metadata": {},
   "outputs": [],
   "source": [
    "from nltk.corpus import stopwords"
   ]
  },
  {
   "cell_type": "code",
   "execution_count": 47,
   "id": "f6eb5e5c",
   "metadata": {},
   "outputs": [],
   "source": [
    "#removing stop words\n",
    "no_stopwords = []\n",
    "for words in clean_word:\n",
    "    w=[]\n",
    "    for word in words:\n",
    "        if not word in stopwords.words('english'):\n",
    "            w.append(word)\n",
    "    no_stopwords.append(w)"
   ]
  },
  {
   "cell_type": "code",
   "execution_count": 59,
   "id": "c32eaf98",
   "metadata": {},
   "outputs": [
    {
     "name": "stderr",
     "output_type": "stream",
     "text": [
      "[nltk_data] Downloading package wordnet to /home/rohan/nltk_data...\n",
      "[nltk_data]   Package wordnet is already up-to-date!\n",
      "[nltk_data] Downloading package omw-1.4 to /home/rohan/nltk_data...\n",
      "[nltk_data]   Unzipping corpora/omw-1.4.zip.\n"
     ]
    },
    {
     "data": {
      "text/plain": [
       "True"
      ]
     },
     "execution_count": 59,
     "metadata": {},
     "output_type": "execute_result"
    }
   ],
   "source": [
    "nltk.download('wordnet')\n",
    "nltk.download('omw-1.4')"
   ]
  },
  {
   "cell_type": "code",
   "execution_count": 60,
   "id": "9613e7dd",
   "metadata": {},
   "outputs": [],
   "source": [
    "from nltk.stem import WordNetLemmatizer \n",
    "port = WordNetLemmatizer()"
   ]
  },
  {
   "cell_type": "code",
   "execution_count": 61,
   "id": "f77d2df1",
   "metadata": {},
   "outputs": [],
   "source": [
    "#lemmatizing\n",
    "lemmatized_words =[]\n",
    "for words in no_stopwords:\n",
    "    w=[]\n",
    "    for word in words:\n",
    "        a = port.lemmatize(word)\n",
    "        w.append(a)\n",
    "    lemmatized_words.append(w)"
   ]
  },
  {
   "cell_type": "code",
   "execution_count": null,
   "id": "a20ee351",
   "metadata": {},
   "outputs": [],
   "source": []
  },
  {
   "cell_type": "code",
   "execution_count": null,
   "id": "e7c3d5f6",
   "metadata": {},
   "outputs": [],
   "source": []
  }
 ],
 "metadata": {
  "kernelspec": {
   "display_name": "Python 3 (ipykernel)",
   "language": "python",
   "name": "python3"
  },
  "language_info": {
   "codemirror_mode": {
    "name": "ipython",
    "version": 3
   },
   "file_extension": ".py",
   "mimetype": "text/x-python",
   "name": "python",
   "nbconvert_exporter": "python",
   "pygments_lexer": "ipython3",
   "version": "3.9.7"
  }
 },
 "nbformat": 4,
 "nbformat_minor": 5
}
