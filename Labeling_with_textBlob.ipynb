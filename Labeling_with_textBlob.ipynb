{
 "cells": [
  {
   "cell_type": "code",
   "execution_count": 1,
   "id": "00c8c1ab",
   "metadata": {},
   "outputs": [
    {
     "name": "stdout",
     "output_type": "stream",
     "text": [
      "Defaulting to user installation because normal site-packages is not writeable\n",
      "Requirement already satisfied: textblob in /home/rohan/.local/lib/python3.9/site-packages (0.17.1)\n",
      "Requirement already satisfied: nltk>=3.1 in /home/rohan/.local/lib/python3.9/site-packages (from textblob) (3.7)\n",
      "Requirement already satisfied: regex>=2021.8.3 in /home/rohan/.local/lib/python3.9/site-packages (from nltk>=3.1->textblob) (2022.4.24)\n",
      "Requirement already satisfied: joblib in /home/rohan/.local/lib/python3.9/site-packages (from nltk>=3.1->textblob) (1.1.0)\n",
      "Requirement already satisfied: tqdm in /home/rohan/.local/lib/python3.9/site-packages (from nltk>=3.1->textblob) (4.64.0)\n",
      "Requirement already satisfied: click in /usr/lib/python3/dist-packages (from nltk>=3.1->textblob) (7.1.2)\n"
     ]
    }
   ],
   "source": [
    "!pip install textblob"
   ]
  },
  {
   "cell_type": "code",
   "execution_count": 1,
   "id": "3f7d3393",
   "metadata": {},
   "outputs": [],
   "source": [
    "#Data processing packages\n",
    "import pandas as pd\n",
    "import numpy as np\n",
    "\n",
    "\n",
    "#Visualization packages\n",
    "import matplotlib.pyplot as plt\n",
    "\n",
    "#NLP packages\n",
    "from textblob import TextBlob\n",
    "\n",
    "import warnings\n",
    "warnings.filterwarnings(\"ignore\")"
   ]
  },
  {
   "cell_type": "code",
   "execution_count": 2,
   "id": "687ecd1e",
   "metadata": {},
   "outputs": [],
   "source": [
    "comm = pd.read_csv('cleaned_data.csv',encoding='utf8',error_bad_lines=False);"
   ]
  },
  {
   "cell_type": "code",
   "execution_count": 3,
   "id": "81af0700",
   "metadata": {},
   "outputs": [
    {
     "data": {
      "text/html": [
       "<div>\n",
       "<style scoped>\n",
       "    .dataframe tbody tr th:only-of-type {\n",
       "        vertical-align: middle;\n",
       "    }\n",
       "\n",
       "    .dataframe tbody tr th {\n",
       "        vertical-align: top;\n",
       "    }\n",
       "\n",
       "    .dataframe thead th {\n",
       "        text-align: right;\n",
       "    }\n",
       "</style>\n",
       "<table border=\"1\" class=\"dataframe\">\n",
       "  <thead>\n",
       "    <tr style=\"text-align: right;\">\n",
       "      <th></th>\n",
       "      <th>Author</th>\n",
       "      <th>Comment</th>\n",
       "    </tr>\n",
       "  </thead>\n",
       "  <tbody>\n",
       "    <tr>\n",
       "      <th>0</th>\n",
       "      <td>Don Gillies</td>\n",
       "      <td>Nothing better than being young and in love.  ...</td>\n",
       "    </tr>\n",
       "    <tr>\n",
       "      <th>1</th>\n",
       "      <td>Dogeball</td>\n",
       "      <td>this song. . .</td>\n",
       "    </tr>\n",
       "    <tr>\n",
       "      <th>2</th>\n",
       "      <td>Varifiable Jelly</td>\n",
       "      <td>5 years and it ain t stopped. Dang</td>\n",
       "    </tr>\n",
       "    <tr>\n",
       "      <th>3</th>\n",
       "      <td>0</td>\n",
       "      <td>there is literally nobody in this world who do...</td>\n",
       "    </tr>\n",
       "    <tr>\n",
       "      <th>4</th>\n",
       "      <td>Nirmala Gowda</td>\n",
       "      <td>Me I  39</td>\n",
       "    </tr>\n",
       "  </tbody>\n",
       "</table>\n",
       "</div>"
      ],
      "text/plain": [
       "             Author                                            Comment\n",
       "0       Don Gillies  Nothing better than being young and in love.  ...\n",
       "1          Dogeball                                     this song. . .\n",
       "2  Varifiable Jelly                 5 years and it ain t stopped. Dang\n",
       "3                 0  there is literally nobody in this world who do...\n",
       "4     Nirmala Gowda                                           Me I  39"
      ]
     },
     "execution_count": 3,
     "metadata": {},
     "output_type": "execute_result"
    }
   ],
   "source": [
    "comm.head()"
   ]
  },
  {
   "cell_type": "code",
   "execution_count": 4,
   "id": "7e29c789",
   "metadata": {},
   "outputs": [
    {
     "data": {
      "text/plain": [
       "(16333, 2)"
      ]
     },
     "execution_count": 4,
     "metadata": {},
     "output_type": "execute_result"
    }
   ],
   "source": [
    "comm.shape"
   ]
  },
  {
   "cell_type": "code",
   "execution_count": 5,
   "id": "795778b2",
   "metadata": {},
   "outputs": [],
   "source": [
    "#calculate sentiment polarity\n",
    "pol=[]\n",
    "numberErrors = 0\n",
    "for i in comm['Comment']:\n",
    "    try:\n",
    "        analysis = TextBlob(i)\n",
    "        pol.append(analysis.sentiment.polarity)\n",
    "    except:\n",
    "        numberErrors +=1\n",
    "        pol.append(0)"
   ]
  },
  {
   "cell_type": "code",
   "execution_count": 6,
   "id": "c34d0f94",
   "metadata": {},
   "outputs": [],
   "source": [
    "#adding polarity column\n",
    "comm['Polarity']=pol"
   ]
  },
  {
   "cell_type": "code",
   "execution_count": 7,
   "id": "cdfd38ce",
   "metadata": {},
   "outputs": [
    {
     "name": "stdout",
     "output_type": "stream",
     "text": [
      "Number of errors:  327\n"
     ]
    }
   ],
   "source": [
    "#number of errors that could not be analyzed by textBlob\n",
    "print(\"Number of errors: \",numberErrors)"
   ]
  },
  {
   "cell_type": "code",
   "execution_count": 10,
   "id": "6500bf00",
   "metadata": {},
   "outputs": [],
   "source": [
    "#converting polarity values from contionous to catagorical\n",
    "comm['Polarity'][comm.Polarity==0]= 0\n",
    "comm['Polarity'][comm.Polarity>0]= 1\n",
    "comm['Polarity'][comm.Polarity<0]= -1"
   ]
  },
  {
   "cell_type": "code",
   "execution_count": 11,
   "id": "93cf4792",
   "metadata": {},
   "outputs": [
    {
     "data": {
      "text/html": [
       "<div>\n",
       "<style scoped>\n",
       "    .dataframe tbody tr th:only-of-type {\n",
       "        vertical-align: middle;\n",
       "    }\n",
       "\n",
       "    .dataframe tbody tr th {\n",
       "        vertical-align: top;\n",
       "    }\n",
       "\n",
       "    .dataframe thead th {\n",
       "        text-align: right;\n",
       "    }\n",
       "</style>\n",
       "<table border=\"1\" class=\"dataframe\">\n",
       "  <thead>\n",
       "    <tr style=\"text-align: right;\">\n",
       "      <th></th>\n",
       "      <th>Author</th>\n",
       "      <th>Comment</th>\n",
       "      <th>Polarity</th>\n",
       "    </tr>\n",
       "  </thead>\n",
       "  <tbody>\n",
       "    <tr>\n",
       "      <th>0</th>\n",
       "      <td>Don Gillies</td>\n",
       "      <td>Nothing better than being young and in love.  ...</td>\n",
       "      <td>1.0</td>\n",
       "    </tr>\n",
       "    <tr>\n",
       "      <th>11</th>\n",
       "      <td>.teef5211.</td>\n",
       "      <td>Was a great song</td>\n",
       "      <td>1.0</td>\n",
       "    </tr>\n",
       "    <tr>\n",
       "      <th>14</th>\n",
       "      <td>DarkMoonGeneral</td>\n",
       "      <td>Funny thing about how I heard this song. I did...</td>\n",
       "      <td>1.0</td>\n",
       "    </tr>\n",
       "    <tr>\n",
       "      <th>15</th>\n",
       "      <td>si yuan wanglow</td>\n",
       "      <td>follow us lmao</td>\n",
       "      <td>1.0</td>\n",
       "    </tr>\n",
       "    <tr>\n",
       "      <th>20</th>\n",
       "      <td>GN LEARNING</td>\n",
       "      <td>Love you mother red heartred heart</td>\n",
       "      <td>1.0</td>\n",
       "    </tr>\n",
       "  </tbody>\n",
       "</table>\n",
       "</div>"
      ],
      "text/plain": [
       "             Author                                            Comment  \\\n",
       "0       Don Gillies  Nothing better than being young and in love.  ...   \n",
       "11      .teef5211.                                    Was a great song   \n",
       "14  DarkMoonGeneral  Funny thing about how I heard this song. I did...   \n",
       "15  si yuan wanglow                                     follow us lmao   \n",
       "20      GN LEARNING             Love you mother red heartred heart       \n",
       "\n",
       "    Polarity  \n",
       "0        1.0  \n",
       "11       1.0  \n",
       "14       1.0  \n",
       "15       1.0  \n",
       "20       1.0  "
      ]
     },
     "execution_count": 11,
     "metadata": {},
     "output_type": "execute_result"
    }
   ],
   "source": [
    "#visulizing positive comments\n",
    "df_positive = comm[comm.Polarity==1]\n",
    "df_positive.head()"
   ]
  },
  {
   "cell_type": "code",
   "execution_count": 12,
   "id": "f90b623d",
   "metadata": {},
   "outputs": [
    {
     "data": {
      "text/html": [
       "<div>\n",
       "<style scoped>\n",
       "    .dataframe tbody tr th:only-of-type {\n",
       "        vertical-align: middle;\n",
       "    }\n",
       "\n",
       "    .dataframe tbody tr th {\n",
       "        vertical-align: top;\n",
       "    }\n",
       "\n",
       "    .dataframe thead th {\n",
       "        text-align: right;\n",
       "    }\n",
       "</style>\n",
       "<table border=\"1\" class=\"dataframe\">\n",
       "  <thead>\n",
       "    <tr style=\"text-align: right;\">\n",
       "      <th></th>\n",
       "      <th>Author</th>\n",
       "      <th>Comment</th>\n",
       "      <th>Polarity</th>\n",
       "    </tr>\n",
       "  </thead>\n",
       "  <tbody>\n",
       "    <tr>\n",
       "      <th>7</th>\n",
       "      <td>cyh 7</td>\n",
       "      <td>Holy shit spotter from isle</td>\n",
       "      <td>-1.0</td>\n",
       "    </tr>\n",
       "    <tr>\n",
       "      <th>50</th>\n",
       "      <td>Ojus Sharma</td>\n",
       "      <td>jeffery harber why do you waste your time and...</td>\n",
       "      <td>-1.0</td>\n",
       "    </tr>\n",
       "    <tr>\n",
       "      <th>115</th>\n",
       "      <td>Crazy  Gaming</td>\n",
       "      <td>Fuck you all hater of Sheeran</td>\n",
       "      <td>-1.0</td>\n",
       "    </tr>\n",
       "    <tr>\n",
       "      <th>116</th>\n",
       "      <td>0</td>\n",
       "      <td>There s one bad thing about this song, it ends</td>\n",
       "      <td>-1.0</td>\n",
       "    </tr>\n",
       "    <tr>\n",
       "      <th>168</th>\n",
       "      <td>Wayne YouTube</td>\n",
       "      <td>Dating a girl who gyms and does boxing is so s...</td>\n",
       "      <td>-1.0</td>\n",
       "    </tr>\n",
       "  </tbody>\n",
       "</table>\n",
       "</div>"
      ],
      "text/plain": [
       "            Author                                            Comment  \\\n",
       "7            cyh 7                        Holy shit spotter from isle   \n",
       "50     Ojus Sharma   jeffery harber why do you waste your time and...   \n",
       "115  Crazy  Gaming                      Fuck you all hater of Sheeran   \n",
       "116              0     There s one bad thing about this song, it ends   \n",
       "168  Wayne YouTube  Dating a girl who gyms and does boxing is so s...   \n",
       "\n",
       "     Polarity  \n",
       "7        -1.0  \n",
       "50       -1.0  \n",
       "115      -1.0  \n",
       "116      -1.0  \n",
       "168      -1.0  "
      ]
     },
     "execution_count": 12,
     "metadata": {},
     "output_type": "execute_result"
    }
   ],
   "source": [
    "#visulizing negative comments\n",
    "df_negative = comm[comm.Polarity==-1]\n",
    "df_negative.head()"
   ]
  },
  {
   "cell_type": "code",
   "execution_count": 14,
   "id": "aa8aa7f1",
   "metadata": {},
   "outputs": [
    {
     "data": {
      "text/html": [
       "<div>\n",
       "<style scoped>\n",
       "    .dataframe tbody tr th:only-of-type {\n",
       "        vertical-align: middle;\n",
       "    }\n",
       "\n",
       "    .dataframe tbody tr th {\n",
       "        vertical-align: top;\n",
       "    }\n",
       "\n",
       "    .dataframe thead th {\n",
       "        text-align: right;\n",
       "    }\n",
       "</style>\n",
       "<table border=\"1\" class=\"dataframe\">\n",
       "  <thead>\n",
       "    <tr style=\"text-align: right;\">\n",
       "      <th></th>\n",
       "      <th>Author</th>\n",
       "      <th>Comment</th>\n",
       "      <th>Polarity</th>\n",
       "    </tr>\n",
       "  </thead>\n",
       "  <tbody>\n",
       "    <tr>\n",
       "      <th>1</th>\n",
       "      <td>Dogeball</td>\n",
       "      <td>this song. . .</td>\n",
       "      <td>0.0</td>\n",
       "    </tr>\n",
       "    <tr>\n",
       "      <th>2</th>\n",
       "      <td>Varifiable Jelly</td>\n",
       "      <td>5 years and it ain t stopped. Dang</td>\n",
       "      <td>0.0</td>\n",
       "    </tr>\n",
       "    <tr>\n",
       "      <th>3</th>\n",
       "      <td>0</td>\n",
       "      <td>there is literally nobody in this world who do...</td>\n",
       "      <td>0.0</td>\n",
       "    </tr>\n",
       "    <tr>\n",
       "      <th>4</th>\n",
       "      <td>Nirmala Gowda</td>\n",
       "      <td>Me I  39</td>\n",
       "      <td>0.0</td>\n",
       "    </tr>\n",
       "    <tr>\n",
       "      <th>5</th>\n",
       "      <td>PRO FF</td>\n",
       "      <td>Evergreen Justinfire</td>\n",
       "      <td>0.0</td>\n",
       "    </tr>\n",
       "  </tbody>\n",
       "</table>\n",
       "</div>"
      ],
      "text/plain": [
       "             Author                                            Comment  \\\n",
       "1          Dogeball                                     this song. . .   \n",
       "2  Varifiable Jelly                 5 years and it ain t stopped. Dang   \n",
       "3                 0  there is literally nobody in this world who do...   \n",
       "4     Nirmala Gowda                                           Me I  39   \n",
       "5            PRO FF                               Evergreen Justinfire   \n",
       "\n",
       "   Polarity  \n",
       "1       0.0  \n",
       "2       0.0  \n",
       "3       0.0  \n",
       "4       0.0  \n",
       "5       0.0  "
      ]
     },
     "execution_count": 14,
     "metadata": {},
     "output_type": "execute_result"
    }
   ],
   "source": [
    "#vizualizing neutral comments\n",
    "df_neutral = comm[comm.Polarity==0]\n",
    "df_neutral.head()"
   ]
  },
  {
   "cell_type": "code",
   "execution_count": 15,
   "id": "8726c4b7",
   "metadata": {},
   "outputs": [
    {
     "data": {
      "text/plain": [
       " 0.0    10865\n",
       " 1.0     4609\n",
       "-1.0      859\n",
       "Name: Polarity, dtype: int64"
      ]
     },
     "execution_count": 15,
     "metadata": {},
     "output_type": "execute_result"
    },
    {
     "data": {
      "image/png": "[encoded data removed]",
      "text/plain": [
       "<Figure size 432x288 with 1 Axes>"
      ]
     },
     "metadata": {
      "needs_background": "light"
     },
     "output_type": "display_data"
    }
   ],
   "source": [
    "#Visulizing the distribution of comments\n",
    "comm.Polarity.value_counts().plot.bar()\n",
    "comm.Polarity.value_counts()"
   ]
  },
  {
   "cell_type": "code",
   "execution_count": 17,
   "id": "3126f6c2",
   "metadata": {},
   "outputs": [
    {
     "data": {
      "text/plain": [
       "'\\n1.The triend of  more neutral comments is observed , this may be due to the fact that the song is 5 years old \\nand most people are just commenting about time and how many views it still has. We can also observe that \\nthere are 327 comments could not be analized by textBlob that are kept in this group.Some comments are in different\\nlanguages that could not be understood by textBlob are also kept in this group\\n\\n2.The triend of positive comments as high can be explained by the fact that this song is one of the most loved \\nenglish songs of this decade. The number of positive comments is almost 5 times the negative comments.\\n'"
      ]
     },
     "execution_count": 17,
     "metadata": {},
     "output_type": "execute_result"
    }
   ],
   "source": [
    "'''\n",
    "1.The triend of  more neutral comments is observed , this may be due to the fact that the song is 5 years old \n",
    "and most people are just commenting about time and how many views it still has. We can also observe that \n",
    "there are 327 comments could not be analized by textBlob that are kept in this group.Some comments are in different\n",
    "languages that could not be understood by textBlob are also kept in this group\n",
    "\n",
    "2.The triend of positive comments as high can be explained by the fact that this song is one of the most loved \n",
    "english songs of this decade. The number of positive comments is almost 5 times the negative comments.\n",
    "'''"
   ]
  },
  {
   "cell_type": "code",
   "execution_count": 18,
   "id": "8d39658c",
   "metadata": {},
   "outputs": [
    {
     "data": {
      "text/html": [
       "<div>\n",
       "<style scoped>\n",
       "    .dataframe tbody tr th:only-of-type {\n",
       "        vertical-align: middle;\n",
       "    }\n",
       "\n",
       "    .dataframe tbody tr th {\n",
       "        vertical-align: top;\n",
       "    }\n",
       "\n",
       "    .dataframe thead th {\n",
       "        text-align: right;\n",
       "    }\n",
       "</style>\n",
       "<table border=\"1\" class=\"dataframe\">\n",
       "  <thead>\n",
       "    <tr style=\"text-align: right;\">\n",
       "      <th></th>\n",
       "      <th>Author</th>\n",
       "      <th>Comment</th>\n",
       "      <th>Polarity</th>\n",
       "    </tr>\n",
       "  </thead>\n",
       "  <tbody>\n",
       "    <tr>\n",
       "      <th>0</th>\n",
       "      <td>Don Gillies</td>\n",
       "      <td>Nothing better than being young and in love.  ...</td>\n",
       "      <td>1.0</td>\n",
       "    </tr>\n",
       "    <tr>\n",
       "      <th>1</th>\n",
       "      <td>Dogeball</td>\n",
       "      <td>this song. . .</td>\n",
       "      <td>0.0</td>\n",
       "    </tr>\n",
       "    <tr>\n",
       "      <th>2</th>\n",
       "      <td>Varifiable Jelly</td>\n",
       "      <td>5 years and it ain t stopped. Dang</td>\n",
       "      <td>0.0</td>\n",
       "    </tr>\n",
       "    <tr>\n",
       "      <th>3</th>\n",
       "      <td>0</td>\n",
       "      <td>there is literally nobody in this world who do...</td>\n",
       "      <td>0.0</td>\n",
       "    </tr>\n",
       "    <tr>\n",
       "      <th>4</th>\n",
       "      <td>Nirmala Gowda</td>\n",
       "      <td>Me I  39</td>\n",
       "      <td>0.0</td>\n",
       "    </tr>\n",
       "    <tr>\n",
       "      <th>5</th>\n",
       "      <td>PRO FF</td>\n",
       "      <td>Evergreen Justinfire</td>\n",
       "      <td>0.0</td>\n",
       "    </tr>\n",
       "    <tr>\n",
       "      <th>6</th>\n",
       "      <td>Karna Debbarma</td>\n",
       "      <td>Op song headphone smiling face with heart eyes</td>\n",
       "      <td>0.0</td>\n",
       "    </tr>\n",
       "    <tr>\n",
       "      <th>7</th>\n",
       "      <td>cyh 7</td>\n",
       "      <td>Holy shit spotter from isle</td>\n",
       "      <td>-1.0</td>\n",
       "    </tr>\n",
       "    <tr>\n",
       "      <th>8</th>\n",
       "      <td>08 Farhat Ferdiansyah X MIPA 4</td>\n",
       "      <td>Keren banggg</td>\n",
       "      <td>0.0</td>\n",
       "    </tr>\n",
       "    <tr>\n",
       "      <th>9</th>\n",
       "      <td>Angel Khoo</td>\n",
       "      <td>Semoga komentar ini masih bisa di lihat untuk ...</td>\n",
       "      <td>0.0</td>\n",
       "    </tr>\n",
       "  </tbody>\n",
       "</table>\n",
       "</div>"
      ],
      "text/plain": [
       "                           Author  \\\n",
       "0                     Don Gillies   \n",
       "1                        Dogeball   \n",
       "2                Varifiable Jelly   \n",
       "3                               0   \n",
       "4                   Nirmala Gowda   \n",
       "5                          PRO FF   \n",
       "6                  Karna Debbarma   \n",
       "7                           cyh 7   \n",
       "8  08 Farhat Ferdiansyah X MIPA 4   \n",
       "9                      Angel Khoo   \n",
       "\n",
       "                                             Comment  Polarity  \n",
       "0  Nothing better than being young and in love.  ...       1.0  \n",
       "1                                     this song. . .       0.0  \n",
       "2                 5 years and it ain t stopped. Dang       0.0  \n",
       "3  there is literally nobody in this world who do...       0.0  \n",
       "4                                           Me I  39       0.0  \n",
       "5                               Evergreen Justinfire       0.0  \n",
       "6     Op song headphone smiling face with heart eyes       0.0  \n",
       "7                        Holy shit spotter from isle      -1.0  \n",
       "8                                       Keren banggg       0.0  \n",
       "9  Semoga komentar ini masih bisa di lihat untuk ...       0.0  "
      ]
     },
     "execution_count": 18,
     "metadata": {},
     "output_type": "execute_result"
    }
   ],
   "source": [
    "#Visualizing the main dataframe with its new column of sentimental labels\n",
    "comm.head(10)"
   ]
  },
  {
   "cell_type": "code",
   "execution_count": 21,
   "id": "1d7193e1",
   "metadata": {},
   "outputs": [],
   "source": [
    "comm.to_csv('labelled_data.csv',index=False)"
   ]
  }
 ],
 "metadata": {
  "kernelspec": {
   "display_name": "Python 3 (ipykernel)",
   "language": "python",
   "name": "python3"
  },
  "language_info": {
   "codemirror_mode": {
    "name": "ipython",
    "version": 3
   },
   "file_extension": ".py",
   "mimetype": "text/x-python",
   "name": "python",
   "nbconvert_exporter": "python",
   "pygments_lexer": "ipython3",
   "version": "3.9.7"
  }
 },
 "nbformat": 4,
 "nbformat_minor": 5
}
